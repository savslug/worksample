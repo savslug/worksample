{
 "cells": [
  {
   "cell_type": "markdown",
   "metadata": {},
   "source": [
    "# A Python入門課題 Pythonを使ってみよう"
   ]
  },
  {
   "cell_type": "markdown",
   "metadata": {},
   "source": [
    "## 問題１"
   ]
  },
  {
   "cell_type": "code",
   "execution_count": 1,
   "metadata": {},
   "outputs": [
    {
     "name": "stdout",
     "output_type": "stream",
     "text": [
      "厚さ： 703687441.77664メートル\n"
     ]
    }
   ],
   "source": [
    "\"\"\"\n",
    "紙を1回折った時の厚さを計算するコード\n",
    "\"\"\"\n",
    "\n",
    "THICKNESS = 0.00008\n",
    "\n",
    "#「掛ける2」を43回行う\n",
    "folded_thickness = THICKNESS*(2**43)\n",
    "\n",
    "print(\"厚さ： {}メートル\".format(folded_thickness))"
   ]
  },
  {
   "cell_type": "markdown",
   "metadata": {},
   "source": [
    "## 問題2"
   ]
  },
  {
   "cell_type": "code",
   "execution_count": 2,
   "metadata": {},
   "outputs": [
    {
     "name": "stdout",
     "output_type": "stream",
     "text": [
      "厚さ： 703687.44キロメートル\n"
     ]
    }
   ],
   "source": [
    "\"\"\"\n",
    "紙を1回折った時の厚さを計算するコード\n",
    "\"\"\"\n",
    "\n",
    "THICKNESS = 0.00008\n",
    "\n",
    "folded_thickness = THICKNESS*(2**43)\n",
    "\n",
    "# メートルをキロメートルに変換して小数点以下2桁で表示する\n",
    "print(\"厚さ： {:.2f}キロメートル\".format(folded_thickness/1000))"
   ]
  },
  {
   "cell_type": "markdown",
   "metadata": {},
   "source": [
    "## 問題3"
   ]
  },
  {
   "cell_type": "code",
   "execution_count": 3,
   "metadata": {},
   "outputs": [
    {
     "name": "stdout",
     "output_type": "stream",
     "text": [
      "厚さ： 703687.44キロメートル\n"
     ]
    }
   ],
   "source": [
    "\"\"\"\n",
    "紙を1回折った時の厚さを計算するコード（for文版）\n",
    "\"\"\"\n",
    "\n",
    "THICKNESS = 0.00008\n",
    "\n",
    "# folded_thicknessにTHICKNESSを代入して\n",
    "folded_thickness=THICKNESS\n",
    "\n",
    "# 43回折りたたむ\n",
    "for i in range(43):\n",
    "    # folded_thickness=folded_thickness*2 でも同じ意味\n",
    "    folded_thickness*=2\n",
    "    \n",
    "# メートルをキロメートルに変換して小数点以下2桁で表示する\n",
    "print(\"厚さ： {:.2f}キロメートル\".format(folded_thickness/1000))"
   ]
  },
  {
   "cell_type": "markdown",
   "metadata": {},
   "source": [
    "## 問題4"
   ]
  },
  {
   "cell_type": "code",
   "execution_count": 4,
   "metadata": {},
   "outputs": [
    {
     "name": "stdout",
     "output_type": "stream",
     "text": [
      "厚さ： 703687.44キロメートル\n",
      "time : 0.0011887550354003906[s]\n"
     ]
    }
   ],
   "source": [
    "import time\n",
    "start = time.time()\n",
    "#####\n",
    "# ここに上で書いたコードを貼り付ける\n",
    "\n",
    "\"\"\"\n",
    "紙を1回折った時の厚さを計算するコード\n",
    "\"\"\"\n",
    "\n",
    "THICKNESS = 0.00008\n",
    "\n",
    "folded_thickness = THICKNESS*(2**43)\n",
    "\n",
    "# メートルをキロメートルに変換して小数点以下2桁で表示する\n",
    "print(\"厚さ： {:.2f}キロメートル\".format(folded_thickness/1000))\n",
    "\n",
    "#####\n",
    "\n",
    "elapsed_time = time.time() - start\n",
    "print(\"time : {}[s]\".format(elapsed_time))"
   ]
  },
  {
   "cell_type": "code",
   "execution_count": 5,
   "metadata": {},
   "outputs": [
    {
     "name": "stdout",
     "output_type": "stream",
     "text": [
      "厚さ： 703687.44キロメートル\n",
      "time : 0.0007638931274414062[s]\n"
     ]
    }
   ],
   "source": [
    "import time\n",
    "start = time.time()\n",
    "#####\n",
    "# ここに上で書いたコードを貼り付ける\n",
    "\n",
    "\"\"\"\n",
    "紙を1回折った時の厚さを計算するコード（for文版）\n",
    "\"\"\"\n",
    "\n",
    "THICKNESS = 0.00008\n",
    "\n",
    "# folded_thicknessにTHICKNESSを代入して\n",
    "folded_thickness=THICKNESS\n",
    "\n",
    "# 43回折りたたむ\n",
    "for i in range(43):\n",
    "    # folded_thickness=folded_thickness*2 でも同じ意味\n",
    "    folded_thickness*=2\n",
    "    \n",
    "# メートルをキロメートルに変換して小数点以下2桁で表示する\n",
    "print(\"厚さ： {:.2f}キロメートル\".format(folded_thickness/1000))\n",
    "\n",
    "#####\n",
    "\n",
    "elapsed_time = time.time() - start\n",
    "print(\"time : {}[s]\".format(elapsed_time))"
   ]
  },
  {
   "cell_type": "markdown",
   "metadata": {},
   "source": [
    "### 計算時間の関係\n",
    "実行時間のバラつきが大きく，どちらがより高速かよくわからない．\n",
    "そこで，それぞれの方法で計算を繰り返して，かかった時間を調べることにした．"
   ]
  },
  {
   "cell_type": "code",
   "execution_count": 6,
   "metadata": {},
   "outputs": [
    {
     "name": "stdout",
     "output_type": "stream",
     "text": [
      "time : 0.010784387588500977[s]\n",
      "time : 0.1300342082977295[s]\n"
     ]
    }
   ],
   "source": [
    "def beki():\n",
    "    \"\"\"\n",
    "    紙を1回折った時の厚さを計算するコード\n",
    "    べき乗版\n",
    "    \"\"\"\n",
    "    THICKNESS = 0.00008\n",
    "    folded_thickness = THICKNESS*(2**43)\n",
    "    return folded_thickness\n",
    "\n",
    "def for_times():\n",
    "    \"\"\"\n",
    "    紙を1回折った時の厚さを計算するコード\n",
    "    for文版\n",
    "    \"\"\"\n",
    "    THICKNESS = 0.00008\n",
    "    # folded_thicknessにTHICKNESSを代入して\n",
    "    folded_thickness=THICKNESS\n",
    "    # 43回折りたたむ\n",
    "    for i in range(43):\n",
    "        # folded_thickness=folded_thickness*2 でも同じ意味\n",
    "        folded_thickness*=2\n",
    "    return folded_thickness\n",
    "\n",
    "def measure_time(func,iteration=100000):\n",
    "    \"\"\"\n",
    "    iteration回funcの実行を繰り返して，かかった時間を調べる関数\n",
    "    \"\"\"\n",
    "    import time\n",
    "    start = time.time()\n",
    "    for i in range(iteration):\n",
    "        func()\n",
    "    elapsed_time = time.time() - start\n",
    "    print(\"time : {}[s]\".format(elapsed_time))\n",
    "    return\n",
    "\n",
    "measure_time(beki)\n",
    "measure_time(for_times)"
   ]
  },
  {
   "cell_type": "markdown",
   "metadata": {},
   "source": [
    "### 計算時間の関係 追加実験\n",
    "べき乗を用いた場合の方が，for文を用いた場合よりも10倍以上速そうだ．\n",
    "つまり，べき乗を用いた書き方の方が良いということになる．"
   ]
  },
  {
   "cell_type": "markdown",
   "metadata": {},
   "source": [
    "## 問題5"
   ]
  },
  {
   "cell_type": "code",
   "execution_count": 7,
   "metadata": {},
   "outputs": [
    {
     "name": "stdout",
     "output_type": "stream",
     "text": [
      "厚さ： 703687.44キロメートル\n",
      "記録されたデータの数： 44\n"
     ]
    }
   ],
   "source": [
    "#記録用に，空のリストを作成する．\n",
    "record=[]\n",
    "\n",
    "THICKNESS = 0.00008\n",
    "folded_thickness=THICKNESS\n",
    "\n",
    "#折る前の値をリストに追加する．\n",
    "record.append(folded_thickness)\n",
    "\n",
    "# 43回折りたたむ\n",
    "for i in range(43):\n",
    "    folded_thickness*=2\n",
    "    #n回折った時の値をリストに追加していく.\n",
    "    record.append(folded_thickness)\n",
    "    \n",
    "# メートルをキロメートルに変換して小数点以下2桁で表示する\n",
    "print(\"厚さ： {:.2f}キロメートル\".format(folded_thickness/1000))\n",
    "# 44個の値が格納されていることを確認．\n",
    "print(\"記録されたデータの数：\",len(record))"
   ]
  },
  {
   "cell_type": "markdown",
   "metadata": {},
   "source": [
    "## 問題6"
   ]
  },
  {
   "cell_type": "code",
   "execution_count": 8,
   "metadata": {},
   "outputs": [
    {
     "data": {
      "text/plain": [
       "[<matplotlib.lines.Line2D at 0x7f4a6cdbc400>]"
      ]
     },
     "execution_count": 8,
     "metadata": {},
     "output_type": "execute_result"
    },
    {
     "data": {
      "image/png": "[encoded data removed]",
      "text/plain": [
       "<Figure size 432x288 with 1 Axes>"
      ]
     },
     "metadata": {
      "needs_background": "light"
     },
     "output_type": "display_data"
    }
   ],
   "source": [
    "\"\"\"\n",
    "グラフを表示する。タイトルと軸ラベル名付き。\n",
    "\"\"\"\n",
    "import matplotlib.pyplot as plt\n",
    "%matplotlib inline\n",
    "\n",
    "plt.title(\"thickness of folded paper\")\n",
    "plt.xlabel(\"number of folds\")\n",
    "plt.ylabel(\"thickness[m]\")\n",
    "plt.plot(record) # 「リスト名」のところにリストの変数名を入れる"
   ]
  },
  {
   "cell_type": "markdown",
   "metadata": {},
   "source": [
    "### 考察\n",
    "グラフを見ると，厚さが指数的に（爆発的に）大きくなっていくことがわかる．\n",
    "\n",
    "※y軸の単位は 1e8[m]であり，つまり1目盛りが1億メートルを表している．"
   ]
  },
  {
   "cell_type": "markdown",
   "metadata": {},
   "source": [
    "### 問題7"
   ]
  },
  {
   "cell_type": "code",
   "execution_count": 9,
   "metadata": {},
   "outputs": [
    {
     "data": {
      "text/plain": [
       "[<matplotlib.lines.Line2D at 0x7f4a6ccdbcf8>]"
      ]
     },
     "execution_count": 9,
     "metadata": {},
     "output_type": "execute_result"
    },
    {
     "data": {
      "image/png": "[encoded data removed]",
      "text/plain": [
       "<Figure size 432x288 with 1 Axes>"
      ]
     },
     "metadata": {
      "needs_background": "light"
     },
     "output_type": "display_data"
    }
   ],
   "source": [
    "\"\"\"\n",
    "赤い折れ線グラフを表示する。\n",
    "\"\"\"\n",
    "plt.title(\"thickness of folded paper\")\n",
    "plt.xlabel(\"number of folds\")\n",
    "plt.ylabel(\"thickness[m]\")\n",
    "plt.plot(record, color='red')"
   ]
  },
  {
   "cell_type": "code",
   "execution_count": 10,
   "metadata": {},
   "outputs": [
    {
     "data": {
      "text/plain": [
       "[<matplotlib.lines.Line2D at 0x7f4a6ccc3320>]"
      ]
     },
     "execution_count": 10,
     "metadata": {},
     "output_type": "execute_result"
    },
    {
     "data": {
      "image/png": "[encoded data removed]",
      "text/plain": [
       "<Figure size 432x288 with 1 Axes>"
      ]
     },
     "metadata": {
      "needs_background": "light"
     },
     "output_type": "display_data"
    }
   ],
   "source": [
    "\"\"\"\n",
    "軸の値を大きく表示する。\n",
    "\"\"\"\n",
    "plt.title(\"thickness of folded paper\")\n",
    "plt.xlabel(\"number of folds\")\n",
    "plt.ylabel(\"thickness[m]\")\n",
    "plt.tick_params(labelsize=20) # 軸の値に関する設定を行う\n",
    "plt.plot(record)"
   ]
  },
  {
   "cell_type": "markdown",
   "metadata": {},
   "source": [
    "# B Sprint10課題 深層学習スクラッチニューラルネットワーク"
   ]
  },
  {
   "cell_type": "code",
   "execution_count": 11,
   "metadata": {},
   "outputs": [
    {
     "name": "stderr",
     "output_type": "stream",
     "text": [
      "Using TensorFlow backend.\n"
     ]
    }
   ],
   "source": [
    "#データセットの用意\n",
    "from keras.datasets import mnist\n",
    "\n",
    "# これ以降のサンプルコードではX_trainとなっている．\n",
    "# Xは大文字が正しいという前提ですすめる．\n",
    "#(x_train, y_train), (x_test, y_test) = mnist.load_data()\n",
    "(X_train, y_train), (X_test, y_test) = mnist.load_data()\n"
   ]
  },
  {
   "cell_type": "code",
   "execution_count": 12,
   "metadata": {},
   "outputs": [
    {
     "name": "stdout",
     "output_type": "stream",
     "text": [
      "(60000, 28, 28)\n",
      "(10000, 28, 28)\n",
      "uint8\n",
      "[[  0   0   0   0   0   0   0   0   0   0   0   0   0   0   0   0   0   0\n",
      "    0   0   0   0   0   0   0   0   0   0]\n",
      " [  0   0   0   0   0   0   0   0   0   0   0   0   0   0   0   0   0   0\n",
      "    0   0   0   0   0   0   0   0   0   0]\n",
      " [  0   0   0   0   0   0   0   0   0   0   0   0   0   0   0   0   0   0\n",
      "    0   0   0   0   0   0   0   0   0   0]\n",
      " [  0   0   0   0   0   0   0   0   0   0   0   0   0   0   0   0   0   0\n",
      "    0   0   0   0   0   0   0   0   0   0]\n",
      " [  0   0   0   0   0   0   0   0   0   0   0   0   0   0   0   0   0   0\n",
      "    0   0   0   0   0   0   0   0   0   0]\n",
      " [  0   0   0   0   0   0   0   0   0   0   0   0   3  18  18  18 126 136\n",
      "  175  26 166 255 247 127   0   0   0   0]\n",
      " [  0   0   0   0   0   0   0   0  30  36  94 154 170 253 253 253 253 253\n",
      "  225 172 253 242 195  64   0   0   0   0]\n",
      " [  0   0   0   0   0   0   0  49 238 253 253 253 253 253 253 253 253 251\n",
      "   93  82  82  56  39   0   0   0   0   0]\n",
      " [  0   0   0   0   0   0   0  18 219 253 253 253 253 253 198 182 247 241\n",
      "    0   0   0   0   0   0   0   0   0   0]\n",
      " [  0   0   0   0   0   0   0   0  80 156 107 253 253 205  11   0  43 154\n",
      "    0   0   0   0   0   0   0   0   0   0]\n",
      " [  0   0   0   0   0   0   0   0   0  14   1 154 253  90   0   0   0   0\n",
      "    0   0   0   0   0   0   0   0   0   0]\n",
      " [  0   0   0   0   0   0   0   0   0   0   0 139 253 190   2   0   0   0\n",
      "    0   0   0   0   0   0   0   0   0   0]\n",
      " [  0   0   0   0   0   0   0   0   0   0   0  11 190 253  70   0   0   0\n",
      "    0   0   0   0   0   0   0   0   0   0]\n",
      " [  0   0   0   0   0   0   0   0   0   0   0   0  35 241 225 160 108   1\n",
      "    0   0   0   0   0   0   0   0   0   0]\n",
      " [  0   0   0   0   0   0   0   0   0   0   0   0   0  81 240 253 253 119\n",
      "   25   0   0   0   0   0   0   0   0   0]\n",
      " [  0   0   0   0   0   0   0   0   0   0   0   0   0   0  45 186 253 253\n",
      "  150  27   0   0   0   0   0   0   0   0]\n",
      " [  0   0   0   0   0   0   0   0   0   0   0   0   0   0   0  16  93 252\n",
      "  253 187   0   0   0   0   0   0   0   0]\n",
      " [  0   0   0   0   0   0   0   0   0   0   0   0   0   0   0   0   0 249\n",
      "  253 249  64   0   0   0   0   0   0   0]\n",
      " [  0   0   0   0   0   0   0   0   0   0   0   0   0   0  46 130 183 253\n",
      "  253 207   2   0   0   0   0   0   0   0]\n",
      " [  0   0   0   0   0   0   0   0   0   0   0   0  39 148 229 253 253 253\n",
      "  250 182   0   0   0   0   0   0   0   0]\n",
      " [  0   0   0   0   0   0   0   0   0   0  24 114 221 253 253 253 253 201\n",
      "   78   0   0   0   0   0   0   0   0   0]\n",
      " [  0   0   0   0   0   0   0   0  23  66 213 253 253 253 253 198  81   2\n",
      "    0   0   0   0   0   0   0   0   0   0]\n",
      " [  0   0   0   0   0   0  18 171 219 253 253 253 253 195  80   9   0   0\n",
      "    0   0   0   0   0   0   0   0   0   0]\n",
      " [  0   0   0   0  55 172 226 253 253 253 253 244 133  11   0   0   0   0\n",
      "    0   0   0   0   0   0   0   0   0   0]\n",
      " [  0   0   0   0 136 253 253 253 212 135 132  16   0   0   0   0   0   0\n",
      "    0   0   0   0   0   0   0   0   0   0]\n",
      " [  0   0   0   0   0   0   0   0   0   0   0   0   0   0   0   0   0   0\n",
      "    0   0   0   0   0   0   0   0   0   0]\n",
      " [  0   0   0   0   0   0   0   0   0   0   0   0   0   0   0   0   0   0\n",
      "    0   0   0   0   0   0   0   0   0   0]\n",
      " [  0   0   0   0   0   0   0   0   0   0   0   0   0   0   0   0   0   0\n",
      "    0   0   0   0   0   0   0   0   0   0]]\n"
     ]
    }
   ],
   "source": [
    "print(X_train.shape) # (60000, 28, 28)\n",
    "print(X_test.shape) # (10000, 28, 28)\n",
    "print(X_train[0].dtype) # uint8\n",
    "print(X_train[0])"
   ]
  },
  {
   "cell_type": "code",
   "execution_count": 13,
   "metadata": {},
   "outputs": [],
   "source": [
    "# 平滑化\n",
    "X_train = X_train.reshape(-1, 784)\n",
    "X_test = X_test.reshape(-1, 784)"
   ]
  },
  {
   "cell_type": "code",
   "execution_count": 14,
   "metadata": {},
   "outputs": [
    {
     "data": {
      "image/png": "[encoded data removed]",
      "text/plain": [
       "<Figure size 432x288 with 1 Axes>"
      ]
     },
     "metadata": {
      "needs_background": "light"
     },
     "output_type": "display_data"
    }
   ],
   "source": [
    "# 可視化\n",
    "import matplotlib.pyplot as plt\n",
    "%matplotlib inline\n",
    "index = 0\n",
    "image = X_train[index].reshape(28,28)\n",
    "# X_train[index]: (784,)\n",
    "# image: (28, 28)\n",
    "plt.imshow(image, 'gray')\n",
    "plt.title('label : {}'.format(y_train[index]))\n",
    "plt.show()"
   ]
  },
  {
   "cell_type": "code",
   "execution_count": 15,
   "metadata": {},
   "outputs": [
    {
     "data": {
      "image/png": "[encoded data removed]",
      "text/plain": [
       "<Figure size 432x288 with 1 Axes>"
      ]
     },
     "metadata": {
      "needs_background": "light"
     },
     "output_type": "display_data"
    },
    {
     "name": "stdout",
     "output_type": "stream",
     "text": [
      "[[-105.35 -105.35 -105.35 -105.35 -105.35 -105.35 -105.35 -105.35 -105.35\n",
      "  -105.35 -105.35 -105.35 -105.35 -105.35 -105.35 -105.35 -105.35 -105.35\n",
      "  -105.35 -105.35 -105.35 -105.35 -105.35 -105.35 -105.35 -105.35 -105.35\n",
      "  -105.35]\n",
      " [-105.35 -105.35 -105.35 -105.35 -105.35 -105.35 -105.35 -105.35 -105.35\n",
      "  -105.35 -105.35 -105.35 -105.35 -105.35 -105.35 -105.35 -105.35 -105.35\n",
      "  -105.35 -105.35 -105.35 -105.35 -105.35 -105.35 -105.35 -105.35 -105.35\n",
      "  -105.35]\n",
      " [-105.35 -105.35 -105.35 -105.35 -105.35 -105.35 -105.35 -105.35 -105.35\n",
      "  -105.35 -105.35 -105.35 -105.35 -105.35 -105.35 -105.35 -105.35 -105.35\n",
      "  -105.35 -105.35 -105.35 -105.35 -105.35 -105.35 -105.35 -105.35 -105.35\n",
      "  -105.35]\n",
      " [-105.35 -105.35 -105.35 -105.35 -105.35 -105.35 -105.35 -105.35 -105.35\n",
      "  -105.35 -105.35 -105.35 -105.35 -105.35 -105.35 -105.35 -105.35 -105.35\n",
      "  -105.35 -105.35 -105.35 -105.35 -105.35 -105.35 -105.35 -105.35 -105.35\n",
      "  -105.35]\n",
      " [-105.35 -105.35 -105.35 -105.35 -105.35 -105.35 -105.35 -105.35 -105.35\n",
      "  -105.35 -105.35 -105.35 -105.35 -105.35 -105.35 -105.35 -105.35 -105.35\n",
      "  -105.35 -105.35 -105.35 -105.35 -105.35 -105.35 -105.35 -105.35 -105.35\n",
      "  -105.35]\n",
      " [-105.35 -105.35 -105.35 -105.35 -105.35 -105.35 -105.35 -105.35 -105.35\n",
      "  -105.35 -105.35 -105.35 -102.35  -87.35  -87.35  -87.35   20.65   30.65\n",
      "    69.65  -79.35   60.65  149.65  141.65   21.65 -105.35 -105.35 -105.35\n",
      "  -105.35]\n",
      " [-105.35 -105.35 -105.35 -105.35 -105.35 -105.35 -105.35 -105.35  -75.35\n",
      "   -69.35  -11.35   48.65   64.65  147.65  147.65  147.65  147.65  147.65\n",
      "   119.65   66.65  147.65  136.65   89.65  -41.35 -105.35 -105.35 -105.35\n",
      "  -105.35]\n",
      " [-105.35 -105.35 -105.35 -105.35 -105.35 -105.35 -105.35  -56.35  132.65\n",
      "   147.65  147.65  147.65  147.65  147.65  147.65  147.65  147.65  145.65\n",
      "   -12.35  -23.35  -23.35  -49.35  -66.35 -105.35 -105.35 -105.35 -105.35\n",
      "  -105.35]\n",
      " [-105.35 -105.35 -105.35 -105.35 -105.35 -105.35 -105.35  -87.35  113.65\n",
      "   147.65  147.65  147.65  147.65  147.65   92.65   76.65  141.65  135.65\n",
      "  -105.35 -105.35 -105.35 -105.35 -105.35 -105.35 -105.35 -105.35 -105.35\n",
      "  -105.35]\n",
      " [-105.35 -105.35 -105.35 -105.35 -105.35 -105.35 -105.35 -105.35  -25.35\n",
      "    50.65    1.65  147.65  147.65   99.65  -94.35 -105.35  -62.35   48.65\n",
      "  -105.35 -105.35 -105.35 -105.35 -105.35 -105.35 -105.35 -105.35 -105.35\n",
      "  -105.35]\n",
      " [-105.35 -105.35 -105.35 -105.35 -105.35 -105.35 -105.35 -105.35 -105.35\n",
      "   -91.35 -104.35   48.65  147.65  -15.35 -105.35 -105.35 -105.35 -105.35\n",
      "  -105.35 -105.35 -105.35 -105.35 -105.35 -105.35 -105.35 -105.35 -105.35\n",
      "  -105.35]\n",
      " [-105.35 -105.35 -105.35 -105.35 -105.35 -105.35 -105.35 -105.35 -105.35\n",
      "  -105.35 -105.35   33.65  147.65   84.65 -103.35 -105.35 -105.35 -105.35\n",
      "  -105.35 -105.35 -105.35 -105.35 -105.35 -105.35 -105.35 -105.35 -105.35\n",
      "  -105.35]\n",
      " [-105.35 -105.35 -105.35 -105.35 -105.35 -105.35 -105.35 -105.35 -105.35\n",
      "  -105.35 -105.35  -94.35   84.65  147.65  -35.35 -105.35 -105.35 -105.35\n",
      "  -105.35 -105.35 -105.35 -105.35 -105.35 -105.35 -105.35 -105.35 -105.35\n",
      "  -105.35]\n",
      " [-105.35 -105.35 -105.35 -105.35 -105.35 -105.35 -105.35 -105.35 -105.35\n",
      "  -105.35 -105.35 -105.35  -70.35  135.65  119.65   54.65    2.65 -104.35\n",
      "  -105.35 -105.35 -105.35 -105.35 -105.35 -105.35 -105.35 -105.35 -105.35\n",
      "  -105.35]\n",
      " [-105.35 -105.35 -105.35 -105.35 -105.35 -105.35 -105.35 -105.35 -105.35\n",
      "  -105.35 -105.35 -105.35 -105.35  -24.35  134.65  147.65  147.65   13.65\n",
      "   -80.35 -105.35 -105.35 -105.35 -105.35 -105.35 -105.35 -105.35 -105.35\n",
      "  -105.35]\n",
      " [-105.35 -105.35 -105.35 -105.35 -105.35 -105.35 -105.35 -105.35 -105.35\n",
      "  -105.35 -105.35 -105.35 -105.35 -105.35  -60.35   80.65  147.65  147.65\n",
      "    44.65  -78.35 -105.35 -105.35 -105.35 -105.35 -105.35 -105.35 -105.35\n",
      "  -105.35]\n",
      " [-105.35 -105.35 -105.35 -105.35 -105.35 -105.35 -105.35 -105.35 -105.35\n",
      "  -105.35 -105.35 -105.35 -105.35 -105.35 -105.35  -89.35  -12.35  146.65\n",
      "   147.65   81.65 -105.35 -105.35 -105.35 -105.35 -105.35 -105.35 -105.35\n",
      "  -105.35]\n",
      " [-105.35 -105.35 -105.35 -105.35 -105.35 -105.35 -105.35 -105.35 -105.35\n",
      "  -105.35 -105.35 -105.35 -105.35 -105.35 -105.35 -105.35 -105.35  143.65\n",
      "   147.65  143.65  -41.35 -105.35 -105.35 -105.35 -105.35 -105.35 -105.35\n",
      "  -105.35]\n",
      " [-105.35 -105.35 -105.35 -105.35 -105.35 -105.35 -105.35 -105.35 -105.35\n",
      "  -105.35 -105.35 -105.35 -105.35 -105.35  -59.35   24.65   77.65  147.65\n",
      "   147.65  101.65 -103.35 -105.35 -105.35 -105.35 -105.35 -105.35 -105.35\n",
      "  -105.35]\n",
      " [-105.35 -105.35 -105.35 -105.35 -105.35 -105.35 -105.35 -105.35 -105.35\n",
      "  -105.35 -105.35 -105.35  -66.35   42.65  123.65  147.65  147.65  147.65\n",
      "   144.65   76.65 -105.35 -105.35 -105.35 -105.35 -105.35 -105.35 -105.35\n",
      "  -105.35]\n",
      " [-105.35 -105.35 -105.35 -105.35 -105.35 -105.35 -105.35 -105.35 -105.35\n",
      "  -105.35  -81.35    8.65  115.65  147.65  147.65  147.65  147.65   95.65\n",
      "   -27.35 -105.35 -105.35 -105.35 -105.35 -105.35 -105.35 -105.35 -105.35\n",
      "  -105.35]\n",
      " [-105.35 -105.35 -105.35 -105.35 -105.35 -105.35 -105.35 -105.35  -82.35\n",
      "   -39.35  107.65  147.65  147.65  147.65  147.65   92.65  -24.35 -103.35\n",
      "  -105.35 -105.35 -105.35 -105.35 -105.35 -105.35 -105.35 -105.35 -105.35\n",
      "  -105.35]\n",
      " [-105.35 -105.35 -105.35 -105.35 -105.35 -105.35  -87.35   65.65  113.65\n",
      "   147.65  147.65  147.65  147.65   89.65  -25.35  -96.35 -105.35 -105.35\n",
      "  -105.35 -105.35 -105.35 -105.35 -105.35 -105.35 -105.35 -105.35 -105.35\n",
      "  -105.35]\n",
      " [-105.35 -105.35 -105.35 -105.35  -50.35   66.65  120.65  147.65  147.65\n",
      "   147.65  147.65  138.65   27.65  -94.35 -105.35 -105.35 -105.35 -105.35\n",
      "  -105.35 -105.35 -105.35 -105.35 -105.35 -105.35 -105.35 -105.35 -105.35\n",
      "  -105.35]\n",
      " [-105.35 -105.35 -105.35 -105.35   30.65  147.65  147.65  147.65  106.65\n",
      "    29.65   26.65  -89.35 -105.35 -105.35 -105.35 -105.35 -105.35 -105.35\n",
      "  -105.35 -105.35 -105.35 -105.35 -105.35 -105.35 -105.35 -105.35 -105.35\n",
      "  -105.35]\n",
      " [-105.35 -105.35 -105.35 -105.35 -105.35 -105.35 -105.35 -105.35 -105.35\n",
      "  -105.35 -105.35 -105.35 -105.35 -105.35 -105.35 -105.35 -105.35 -105.35\n",
      "  -105.35 -105.35 -105.35 -105.35 -105.35 -105.35 -105.35 -105.35 -105.35\n",
      "  -105.35]\n",
      " [-105.35 -105.35 -105.35 -105.35 -105.35 -105.35 -105.35 -105.35 -105.35\n",
      "  -105.35 -105.35 -105.35 -105.35 -105.35 -105.35 -105.35 -105.35 -105.35\n",
      "  -105.35 -105.35 -105.35 -105.35 -105.35 -105.35 -105.35 -105.35 -105.35\n",
      "  -105.35]\n",
      " [-105.35 -105.35 -105.35 -105.35 -105.35 -105.35 -105.35 -105.35 -105.35\n",
      "  -105.35 -105.35 -105.35 -105.35 -105.35 -105.35 -105.35 -105.35 -105.35\n",
      "  -105.35 -105.35 -105.35 -105.35 -105.35 -105.35 -105.35 -105.35 -105.35\n",
      "  -105.35]]\n"
     ]
    }
   ],
   "source": [
    "# 発展的話題\n",
    "# 注意，サンプルコードではこれまでnumpyをインポートしていなかった．\n",
    "# 使う前にインポートしなければならない．\n",
    "import numpy as np\n",
    "\n",
    "index = 0\n",
    "image = X_train[index].reshape(28,28)\n",
    "image = image.astype(np.float) # float型に変換\n",
    "image -= 105.35 # 意図的に負の小数値を作り出してみる\n",
    "plt.imshow(image, 'gray')\n",
    "# plt.imshow(image, 'gray', vmin = 0, vmax = 255)\n",
    "plt.title('label : {}'.format(y_train[index]))\n",
    "plt.show()\n",
    "print(image) # 値を確認"
   ]
  },
  {
   "cell_type": "code",
   "execution_count": 16,
   "metadata": {},
   "outputs": [
    {
     "name": "stdout",
     "output_type": "stream",
     "text": [
      "1.0\n",
      "0.0\n"
     ]
    }
   ],
   "source": [
    "# 前処理\n",
    "X_train = X_train.astype(np.float)\n",
    "X_test = X_test.astype(np.float)\n",
    "X_train /= 255\n",
    "X_test /= 255\n",
    "print(X_train.max()) # 1.0\n",
    "print(X_train.min()) # 0.0"
   ]
  },
  {
   "cell_type": "code",
   "execution_count": 17,
   "metadata": {},
   "outputs": [
    {
     "name": "stdout",
     "output_type": "stream",
     "text": [
      "(60000,)\n",
      "(60000, 10)\n",
      "float64\n"
     ]
    }
   ],
   "source": [
    "from sklearn.preprocessing import OneHotEncoder\n",
    "enc = OneHotEncoder(handle_unknown='ignore', sparse=False)\n",
    "y_train_one_hot = enc.fit_transform(y_train[:, np.newaxis])\n",
    "y_test_one_hot = enc.transform(y_test[:, np.newaxis])\n",
    "print(y_train.shape) # (60000,)\n",
    "print(y_train_one_hot.shape) # (60000, 10)\n",
    "print(y_train_one_hot.dtype) # float64"
   ]
  },
  {
   "cell_type": "code",
   "execution_count": 18,
   "metadata": {},
   "outputs": [
    {
     "name": "stdout",
     "output_type": "stream",
     "text": [
      "(48000, 784)\n",
      "(12000, 784)\n"
     ]
    }
   ],
   "source": [
    "# 注意，サンプルコードではこれまでインポートしていなかった．\n",
    "from sklearn.model_selection import train_test_split\n",
    "X_train, X_val, y_train, y_val = train_test_split(X_train, y_train, test_size=0.2)\n",
    "print(X_train.shape) # (48000, 784)\n",
    "print(X_val.shape) # (12000, 784)"
   ]
  },
  {
   "cell_type": "markdown",
   "metadata": {},
   "source": [
    "## 問題1"
   ]
  },
  {
   "cell_type": "code",
   "execution_count": 19,
   "metadata": {},
   "outputs": [],
   "source": [
    "class GetMiniBatch:\n",
    "    \"\"\"\n",
    "    ミニバッチを取得するイテレータ\n",
    "\n",
    "    Parameters\n",
    "    ----------\n",
    "    X : 次の形のndarray, shape (n_samples, n_features)\n",
    "      学習データ\n",
    "    y : 次の形のndarray, shape (n_samples, 1)\n",
    "      正解値\n",
    "    batch_size : int\n",
    "      バッチサイズ\n",
    "    seed : int\n",
    "      NumPyの乱数のシード\n",
    "    \"\"\"\n",
    "    def __init__(self, X, y, batch_size = 20, seed=0):\n",
    "        self.batch_size = batch_size\n",
    "        np.random.seed(seed)\n",
    "        shuffle_index = np.random.permutation(np.arange(X.shape[0]))\n",
    "        self._X = X[shuffle_index]\n",
    "        self._y = y[shuffle_index]\n",
    "        self._stop = np.ceil(X.shape[0]/self.batch_size).astype(np.int)\n",
    "\n",
    "    def __len__(self):\n",
    "        return self._stop\n",
    "\n",
    "    def __getitem__(self,item):\n",
    "        p0 = item*self.batch_size\n",
    "        p1 = item*self.batch_size + self.batch_size\n",
    "        return self._X[p0:p1], self._y[p0:p1]        \n",
    "\n",
    "    def __iter__(self):\n",
    "        self._counter = 0\n",
    "        return self\n",
    "\n",
    "    def __next__(self):\n",
    "        if self._counter >= self._stop:\n",
    "            raise StopIteration()\n",
    "        p0 = self._counter*self.batch_size\n",
    "        p1 = self._counter*self.batch_size + self.batch_size\n",
    "        self._counter += 1\n",
    "        return self._X[p0:p1], self._y[p0:p1]"
   ]
  },
  {
   "cell_type": "code",
   "execution_count": 20,
   "metadata": {},
   "outputs": [],
   "source": [
    "class ScratchSimpleNeuralNetrowkClassifier():\n",
    "    \"\"\"\n",
    "    シンプルな三層ニューラルネットワーク分類器\n",
    "\n",
    "    Parameters\n",
    "    ----------\n",
    "\n",
    "    Attributes\n",
    "    ----------\n",
    "    \"\"\"\n",
    "\n",
    "    def __init__(self, verbose = True,batch_size=20,n_features=784,n_nodes1=400,n_nodes2=200,n_output=10,sigma=0.01,epochs=20,alpha=0.1):\n",
    "        self.verbose = verbose\n",
    "\n",
    "        self.batch_size=batch_size\n",
    "        self.n_features = n_features\n",
    "        self.n_nodes1 = n_nodes1\n",
    "        self.n_nodes2 = n_nodes2\n",
    "        self.n_output = n_output\n",
    "        self.sigma = sigma # ガウス分布の標準偏差\n",
    "        self.epochs=epochs # エポック数\n",
    "        self.alpha=alpha # 学習率\n",
    "        \n",
    "        #ガウス分布による初期化\n",
    "        self.W1 = self.sigma * np.random.randn(self.n_features, self.n_nodes1)\n",
    "        self.B1 = self.sigma * np.random.randn(1,self.n_nodes1)\n",
    "        self.W2 = self.sigma * np.random.randn(self.n_nodes1, self.n_nodes2)\n",
    "        self.B2 = self.sigma * np.random.randn(1,self.n_nodes2)\n",
    "        self.W3 = self.sigma * np.random.randn(self.n_nodes2, self.n_output)\n",
    "        self.B3 = self.sigma * np.random.randn(1,self.n_output)\n",
    "        \n",
    "        #活性化関数の決定\n",
    "        if False:\n",
    "            #シグモイド\n",
    "            self.f=lambda A:1/(1+np.exp(-A))\n",
    "        else:\n",
    "            #ハイパボリックタンジェント\n",
    "            self.f=lambda A:np.tanh(A)\n",
    "            \n",
    "        #ソフトマックス\n",
    "        self.softmax=lambda A:np.exp(A)/np.sum(np.exp(A),axis=1,keepdims=True)\n",
    "        #交差エントロピー誤差\n",
    "        #実用上，logの中が0だと大変なことになるので，1e-16を足しておく．\n",
    "        self.cross_entropy_error= lambda T,Y:-(1/T.shape[0])*np.sum(T*np.log(Y+1e-16))\n",
    "        \n",
    "        #学習結果記録用\n",
    "        self.train_entropy=[]\n",
    "        self.test_entropy=[]\n",
    "        \n",
    "        \n",
    "    def fit(self, X, y, X_val=None, y_val=None):\n",
    "        \"\"\"\n",
    "        ニューラルネットワーク分類器を学習する。\n",
    "\n",
    "        Parameters\n",
    "        ----------\n",
    "        X : 次の形のndarray, shape (n_samples, n_features)\n",
    "            学習用データの特徴量\n",
    "        y : 次の形のndarray, shape (n_samples, )\n",
    "            学習用データの正解値\n",
    "        X_val : 次の形のndarray, shape (n_samples, n_features)\n",
    "            検証用データの特徴量\n",
    "        y_val : 次の形のndarray, shape (n_samples, )\n",
    "            検証用データの正解値\n",
    "        \"\"\"\n",
    "        \n",
    "        #各エポックごとに実行\n",
    "        for i in range(self.epochs):\n",
    "\n",
    "            #ミニバッチの取得\n",
    "            get_mini_batch = GetMiniBatch(X_train, y_train, batch_size=self.batch_size)\n",
    "            for mini_X_train, mini_y_train in get_mini_batch:\n",
    "                # このfor文内でミニバッチが使える\n",
    "                #フォワードプロパゲーション\n",
    "                A1,Z1,A2,Z2,A3,Z3=self.forward_propagation(mini_X_train)\n",
    "                #バックプロパゲーション\n",
    "                self.back_propagation(mini_X_train,mini_y_train,A1,Z1,A2,Z2,A3,Z3)\n",
    "\n",
    "            #学習結果の記録\n",
    "            train_entropy=self.cross_entropy_error(enc.transform(y_train[:, np.newaxis]),self.predict(X_train))\n",
    "            test_entropy=self.cross_entropy_error(enc.transform(y_test[:, np.newaxis]),self.predict(X_test))\n",
    "            self.train_entropy.append(train_entropy)\n",
    "            self.test_entropy.append(test_entropy)\n",
    "\n",
    "            if self.verbose:\n",
    "                #verboseをTrueにした際は学習過程などを出力する\n",
    "                print(\"Epoch: \",i,\"train_entropy: \",train_entropy,\"test_entropy: \",test_entropy)\n",
    "    \n",
    "        return [self.train_entropy,self.test_entropy]\n",
    "\n",
    "\n",
    "    def predict(self, X):\n",
    "        \"\"\"\n",
    "        ニューラルネットワーク分類器を使い推定する。\n",
    "\n",
    "        Parameters\n",
    "        ----------\n",
    "        X : 次の形のndarray, shape (n_samples, n_features)\n",
    "            サンプル\n",
    "\n",
    "        Returns\n",
    "        -------\n",
    "            次の形のndarray, shape (n_samples, 1)\n",
    "            推定結果\n",
    "        \"\"\"\n",
    "        a,a,a,a,a,Z3=self.forward_propagation(X)\n",
    "        return Z3\n",
    "    \n",
    "    def forward_propagation(self,X):\n",
    "        \"\"\"\n",
    "        フォワードプロパゲーション\n",
    "        \"\"\"        \n",
    "        #1層目\n",
    "        A1=np.dot(X,self.W1)+self.B1\n",
    "        Z1=self.f(A1)\n",
    "        #2層目\n",
    "        A2=np.dot(Z1,self.W2)+self.B2\n",
    "        Z2=self.f(A2)\n",
    "        #3層目\n",
    "        A3=np.dot(Z2,self.W3)+self.B3\n",
    "        Z3=self.softmax(A3)\n",
    "        \n",
    "        return A1,Z1,A2,Z2,A3,Z3\n",
    "        #print(Z3)\n",
    "        #return Z3\n",
    "        \n",
    "    def back_propagation(self,X_train,y_train,A1,Z1,A2,Z2,A3,Z3):\n",
    "        #バックプロパゲーション\n",
    "        #yをワンホット化\n",
    "        y_train_one_hot=enc.transform(y_train[:, np.newaxis])\n",
    "        #3層目\n",
    "        d_L_A3=1/self.batch_size*np.sum(Z3-y_train_one_hot,axis=0,keepdims=True)\n",
    "        d_L_B3=d_L_A3\n",
    "        d_L_W3=np.dot(1/self.batch_size*np.sum(Z2.T,axis=1,keepdims=True),d_L_A3)\n",
    "        d_L_Z2=np.dot(d_L_A3,self.W3.T)\n",
    "        #print(d_L_A3.shape,d_L_B3.shape,d_L_W3.shape,d_L_Z2.shape)\n",
    "\n",
    "        #2層目\n",
    "        d_L_A2=d_L_Z2*(1-(np.tanh(1/self.batch_size*np.sum(A2,axis=0,keepdims=True)))**2)\n",
    "        d_L_B2=d_L_A2\n",
    "        d_L_W2=np.dot(1/self.batch_size*np.sum(Z1.T,axis=1,keepdims=True),d_L_A2)\n",
    "        d_L_Z1=np.dot(d_L_A2,self.W2.T)\n",
    "        #print(d_L_A2.shape,d_L_B2.shape,d_L_W2.shape,d_L_Z1.shape)\n",
    "\n",
    "        #1層目\n",
    "        d_L_A1=d_L_Z1*(1-(np.tanh(1/self.batch_size*np.sum(A1,axis=0,keepdims=True)))**2)\n",
    "        d_L_B1=d_L_A1\n",
    "        d_L_W1=np.dot(1/self.batch_size*np.sum(X_train.T,axis=1,keepdims=True),d_L_A1)\n",
    "        #print(d_L_A1.shape,d_L_W1.shape)\n",
    "\n",
    "        #更新\n",
    "        self.W3-=self.alpha*d_L_W3\n",
    "        self.B3-=self.alpha*d_L_B3\n",
    "        self.W2-=self.alpha*d_L_W2\n",
    "        self.B2-=self.alpha*d_L_B2\n",
    "        self.W1-=self.alpha*d_L_W1\n",
    "        self.B1-=self.alpha*d_L_B1"
   ]
  },
  {
   "cell_type": "code",
   "execution_count": 21,
   "metadata": {},
   "outputs": [
    {
     "name": "stdout",
     "output_type": "stream",
     "text": [
      "Epoch:  0 train_entropy:  1.9318098260875016 test_entropy:  1.921036950484884\n",
      "Epoch:  1 train_entropy:  0.8958394728256224 test_entropy:  0.8745931148261609\n",
      "Epoch:  2 train_entropy:  0.6704301503363131 test_entropy:  0.6484044276329127\n",
      "Epoch:  3 train_entropy:  0.5780581595528871 test_entropy:  0.558539793613138\n",
      "Epoch:  4 train_entropy:  0.5208365985549832 test_entropy:  0.5044224475068738\n",
      "Epoch:  5 train_entropy:  0.4818406801954987 test_entropy:  0.46777658269894185\n",
      "Epoch:  6 train_entropy:  0.4550989258916552 test_entropy:  0.44256114564035426\n",
      "Epoch:  7 train_entropy:  0.435976238424638 test_entropy:  0.424671081537709\n",
      "Epoch:  8 train_entropy:  0.42154219173452934 test_entropy:  0.41137883261693753\n",
      "Epoch:  9 train_entropy:  0.410238420799603 test_entropy:  0.4011428786094987\n",
      "Epoch:  10 train_entropy:  0.40128882181728914 test_entropy:  0.39317111070454414\n",
      "Epoch:  11 train_entropy:  0.39429278613085844 test_entropy:  0.38704790475543477\n",
      "Epoch:  12 train_entropy:  0.3889863789853003 test_entropy:  0.38250927756206393\n",
      "Epoch:  13 train_entropy:  0.3851578596955157 test_entropy:  0.3793704970878339\n",
      "Epoch:  14 train_entropy:  0.38260773269262904 test_entropy:  0.3774741863771212\n",
      "Epoch:  15 train_entropy:  0.3810827923540631 test_entropy:  0.37657853763996463\n",
      "Epoch:  16 train_entropy:  0.38026163231007937 test_entropy:  0.37632515155560686\n",
      "Epoch:  17 train_entropy:  0.37993668248098217 test_entropy:  0.3764351042539332\n",
      "Epoch:  18 train_entropy:  0.3800756502392921 test_entropy:  0.3768073814284417\n",
      "Epoch:  19 train_entropy:  0.3807662566721723 test_entropy:  0.3774929484211591\n"
     ]
    }
   ],
   "source": [
    "NN=ScratchSimpleNeuralNetrowkClassifier()\n",
    "train,test=NN.fit(X_train,y_train)"
   ]
  },
  {
   "cell_type": "markdown",
   "metadata": {},
   "source": [
    "## 問題2"
   ]
  },
  {
   "cell_type": "code",
   "execution_count": 22,
   "metadata": {},
   "outputs": [
    {
     "data": {
      "image/png": "[encoded data removed]",
      "text/plain": [
       "<Figure size 432x288 with 1 Axes>"
      ]
     },
     "metadata": {
      "needs_background": "light"
     },
     "output_type": "display_data"
    }
   ],
   "source": [
    "#学習曲線のプロット\n",
    "plt.title(\"training history\")\n",
    "plt.xlabel(\"Epochs\")\n",
    "plt.ylabel(\"Entropy\")\n",
    "plt.yscale(\"log\")\n",
    "plt.plot(train,label=\"train\")\n",
    "plt.plot(test,label=\"test\")\n",
    "plt.legend()\n",
    "plt.show()"
   ]
  },
  {
   "cell_type": "markdown",
   "metadata": {},
   "source": [
    "## 問題3"
   ]
  },
  {
   "cell_type": "code",
   "execution_count": 23,
   "metadata": {},
   "outputs": [
    {
     "name": "stdout",
     "output_type": "stream",
     "text": [
      "[[ 946    0    4    2    1   12   13    1    1    0]\n",
      " [   0 1079   11    8    0    3    3    0   31    0]\n",
      " [  16    3  897   12   13    3   24   13   42    9]\n",
      " [   5    1   20  871    0   56    1   10   43    3]\n",
      " [   3    7    0    3  884    0   24    7   17   37]\n",
      " [  16    2    6   45   18  729   26    6   39    5]\n",
      " [  12    3    5    1    7   13  909    3    5    0]\n",
      " [   1   10   29    6    8    3    1  917    7   46]\n",
      " [  10   10    9   20   11   29   18    5  857    5]\n",
      " [  11    3    1    9   57   16    1   28   36  847]]\n",
      "0.8936\n"
     ]
    }
   ],
   "source": [
    "from sklearn.metrics import confusion_matrix,accuracy_score\n",
    "\n",
    "y_pred=np.argmax(NN.predict(X_test),axis=1)\n",
    "\n",
    "#Confusion matrix\n",
    "print(confusion_matrix(y_test,y_pred))\n",
    "\n",
    "#正答率を確認する\n",
    "print(accuracy_score(y_test,y_pred))"
   ]
  },
  {
   "cell_type": "markdown",
   "metadata": {},
   "source": [
    "## オプション"
   ]
  },
  {
   "cell_type": "code",
   "execution_count": 24,
   "metadata": {},
   "outputs": [
    {
     "name": "stdout",
     "output_type": "stream",
     "text": [
      "(10000,) (10000,) (10000, 784)\n"
     ]
    },
    {
     "data": {
      "image/png": "[encoded data removed]",
      "text/plain": [
       "<Figure size 432x432 with 36 Axes>"
      ]
     },
     "metadata": {},
     "output_type": "display_data"
    }
   ],
   "source": [
    "\"\"\"\n",
    "#ここ誤字\n",
    "誤分類結果を並べて表示する。画像の上の表示は「推定結果/正解」である。\n",
    "\n",
    "Parameters:\n",
    "----------\n",
    "y_pred : 推定値のndarray (n_samples,)\n",
    "y_val : 検証用データの正解ラベル(n_samples,)\n",
    "X_val : 検証用データの特徴量（n_samples, n_features)\n",
    "\"\"\"\n",
    "\n",
    "y_pred=np.argmax(NN.predict(X_test),axis=1)\n",
    "y_val=y_test\n",
    "X_val=X_test\n",
    "print(y_pred.shape,y_val.shape,X_val.shape)\n",
    "\n",
    "import numpy as np\n",
    "import matplotlib.pyplot as plt\n",
    "\n",
    "num = 36 # いくつ表示するか\n",
    "\n",
    "true_false = y_pred==y_val\n",
    "false_list = np.where(true_false==False)[0].astype(np.int)\n",
    "\n",
    "if false_list.shape[0] < num:\n",
    "    num = false_list.shape[0]\n",
    "fig = plt.figure(figsize=(6, 6))\n",
    "fig.subplots_adjust(left=0, right=0.8,  bottom=0, top=0.8, hspace=1, wspace=0.5)\n",
    "for i in range(num):\n",
    "    ax = fig.add_subplot(6, 6, i + 1, xticks=[], yticks=[])\n",
    "    ax.set_title(\"{} / {}\".format(y_pred[false_list[i]],y_val[false_list[i]]))\n",
    "    ax.imshow(X_val.reshape(-1,28,28)[false_list[i]], cmap='gray')"
   ]
  },
  {
   "cell_type": "markdown",
   "metadata": {},
   "source": [
    "# 改善点の提案\n",
    "## A課題\n",
    "### 問4，計算時間の比較について\n",
    "自分の環境では，1回の実行ではどちらがより高速なのか識別できなかった．\n",
    "\n",
    "for文を知って直後の受講者には難しいかもしれないが．N回実行して平均を取るようにしたほうが良いと思う．\n",
    "\n",
    "（100回繰り返して平均を取る雛形を提供し，「#ここに上で書いたコードを貼り付ける」形式にすれば問題ない？）\n",
    "\n",
    "あるいは，計算時間の比較は問5「リストへの保存」の後にすれば，良い応用問題として機能すると思う．\n",
    "\n",
    "### 問6，グラフの描画について\n",
    "個人的に，可視化ライブラリとしてはPlotlyの方が好きなので，こちらの紹介もしたい．\n",
    "\n",
    "\n",
    "## B課題\n",
    "### データセットをダウンロードするコード\n",
    "ここだけx_train（xが小文字）になっていてそれ以降と整合性が取れていないので修正が必要．\n",
    "\n",
    "### 画像データの可視化 節の発展的話題\n",
    "コード内でnp.floatを呼び出しているが，ここまででimport numpy as npをしていないので，入れたほうが良いと思う．\n",
    "\n",
    "### 問題1\n",
    "#### 難易度\n",
    "受講者のレベルや一緒に提供されている教材にもよると思うが，いきなり真っさらな平原に放り出された感じで少し難しすぎるように感じた．（正直，私もかなり苦しく，他の参考書を見ながらの挑戦になってしまいました．（良い訓練になりました））\n",
    "\n",
    "とはいえ，「#ここにミニバッチ処理」とか書いてしまうとただコピペするだけになってしまうので，なんとなくの気持ちを説明するフローチャート的なものが一緒に載っていると程よい難易度になると思う．\n",
    "\n",
    "#### 交差エントロピー\n",
    "交差エントロピーは書いてあるとおりに実装するとlog(0)が出てきてしまうので，微小な値を足しておかないといけない（ですよね…？）ことを補足してあげると親切だと思う．\n",
    "\n",
    "#### numpy.sumについて\n",
    "これも自分の実装が良くないだけだったり，これ以前の講義でフォローされているのかもしれないが，keepdims=True を入れないと行列がベクトルになってしまって上手く計算できないことや，axis=の意味等は振り返り的に説明してあげると親切だと思った．\n",
    "\n",
    "### 問題3\n",
    "とりあえずconfusion matrixと正答率を出力したが，指示が明瞭でないので，何をすれば良いのかがわかりづらかった．\n",
    "（これも以前の講義でフォローされている？）\n",
    "\n",
    "### オプション\n",
    "コードのコメントに誤字．語分類→誤分類"
   ]
  },
  {
   "cell_type": "markdown",
   "metadata": {},
   "source": []
  }
 ],
 "metadata": {
  "kernelspec": {
   "display_name": "Python 3",
   "language": "python",
   "name": "python3"
  },
  "language_info": {
   "codemirror_mode": {
    "name": "ipython",
    "version": 3
   },
   "file_extension": ".py",
   "mimetype": "text/x-python",
   "name": "python",
   "nbconvert_exporter": "python",
   "pygments_lexer": "ipython3",
   "version": "3.7.3"
  }
 },
 "nbformat": 4,
 "nbformat_minor": 2
}
